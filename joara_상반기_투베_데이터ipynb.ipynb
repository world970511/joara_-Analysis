{
  "nbformat": 4,
  "nbformat_minor": 0,
  "metadata": {
    "colab": {
      "name": "joara_상반기_투베_데이터ipynb",
      "private_outputs": true,
      "provenance": [],
      "collapsed_sections": [],
      "mount_file_id": "14IYzrfNJ20uGCErVFudvwQus8tQA36g5",
      "authorship_tag": "ABX9TyNifHwq4s3M6S4C9gh7gYIx",
      "include_colab_link": true
    },
    "kernelspec": {
      "name": "python3",
      "display_name": "Python 3"
    },
    "language_info": {
      "name": "python"
    },
    "accelerator": "TPU"
  },
  "cells": [
    {
      "cell_type": "markdown",
      "metadata": {
        "id": "view-in-github",
        "colab_type": "text"
      },
      "source": [
        "<a href=\"https://colab.research.google.com/github/world970511/joara_-Analysis/blob/main/joara_%EC%83%81%EB%B0%98%EA%B8%B0_%ED%88%AC%EB%B2%A0_%EB%8D%B0%EC%9D%B4%ED%84%B0ipynb.ipynb\" target=\"_parent\"><img src=\"https://colab.research.google.com/assets/colab-badge.svg\" alt=\"Open In Colab\"/></a>"
      ]
    },
    {
      "cell_type": "code",
      "metadata": {
        "id": "6MX0Nz9zYtdH"
      },
      "source": [
        "!apt-get update \n",
        "!apt-get install g++ openjdk-8-jdk python-dev python3-dev \n",
        "!pip3 install JPype1-py3 \n",
        "!pip3 install konlpy \n",
        "!JAVA_HOME=\"C:\\Program Files\\Java\\jdk-11.0.10\"\n",
        "#출처: https://hong-yp-ml-records.tistory.com/37 [HONG YP's Data Science BLOG]"
      ],
      "execution_count": null,
      "outputs": []
    },
    {
      "cell_type": "code",
      "metadata": {
        "id": "85a1RWKeCzq3"
      },
      "source": [
        "!pip install cufflinks"
      ],
      "execution_count": null,
      "outputs": []
    },
    {
      "cell_type": "code",
      "metadata": {
        "id": "EfpPQxFrDUnZ"
      },
      "source": [
        "!pip install chart_studio"
      ],
      "execution_count": null,
      "outputs": []
    },
    {
      "cell_type": "code",
      "metadata": {
        "id": "BWFvOfabBvrN"
      },
      "source": [
        "import pandas as pd\n",
        "import numpy as np\n",
        "from konlpy.tag import Kkma, Komoran, Okt, Mecab\n",
        "okt = Okt()\n",
        "from collections import Counter\n",
        "from wordcloud import WordCloud\n",
        "import plotly\n",
        "import os\n",
        "import numpy as np \n",
        "import chart_studio.plotly as py\n",
        "chart_studio.tools.set_credentials_file(username='yhs04104',api_key='bmAp8Aw5SVBpvYy4yuPL') \n",
        "import plotly.graph_objects as go\n",
        "from plotly.offline import plot,iplot, init_notebook_mode\n",
        "import urllib.request\n",
        "!pip install wordcloud # 워드클라우드 패키지 설치\n",
        "from wordcloud import WordCloud\n",
        "import matplotlib as mpl\n",
        "import matplotlib.pyplot as plt\n",
        "%config InlineBackend.figure_format = 'retina' # 폰트가 깨끗하게 보이도록 설정"
      ],
      "execution_count": null,
      "outputs": []
    },
    {
      "cell_type": "code",
      "metadata": {
        "id": "c6xgas2p9pl7"
      },
      "source": [
        "def configure_plotly_browser_state():#https://physikk.tistory.com/15 참조. Colab notebook에서 render 할 수 있도록 해주는 함수\n",
        "  import IPython\n",
        "  display(IPython.core.display.HTML('''\n",
        "        <script src=\"/static/components/requirejs/require.js\"></script>\n",
        "        <script>\n",
        "          requirejs.config({\n",
        "            paths: {\n",
        "              base: '/static/base',\n",
        "              plotly: 'https://cdn.plot.ly/plotly-1.5.1.min.js?noext',\n",
        "            },\n",
        "          });\n",
        "        </script>\n",
        "        '''))"
      ],
      "execution_count": null,
      "outputs": []
    },
    {
      "cell_type": "code",
      "metadata": {
        "id": "bOKxXfG_Ex12"
      },
      "source": [
        "#2021 상반기 투베에 오른 소설들 제목과 소개글 불러옴\n",
        "urllib.request.urlretrieve(\"https://raw.githubusercontent.com/world970511/joara_-Analysis/main/joara/infos/month_remove/all_data.txt\",filename=\"joara_all_data.txt\")\n",
        "all_data = pd.read_table('joara_all_data.txt',encoding='utf-8')\n",
        "all_data"
      ],
      "execution_count": null,
      "outputs": []
    },
    {
      "cell_type": "code",
      "metadata": {
        "id": "7Jk01U4siEf1"
      },
      "source": [
        " # 중복제거 및 null 제거 - 단어 빈도 확인용\n",
        "print('초반 데이터 확인 :', len(all_data))\n",
        "print('null값이 존재하는가?=', all_data.isnull().values.any())  # Null 값이 존재하는지 확인\n",
        "all_data2= all_data.dropna(how='any')  # Null 값이 존재하는 행 제거\n",
        "print('null값이 존재하는가?=', all_data.isnull().values.any())  # Null 값이 존재하는지 재확인\n",
        "\n",
        "all_data2.drop_duplicates(subset=['code'], inplace=True)  # 중복된 소설들을 제거한다\n",
        "print('제거 확인 :', len(all_data2))\n",
        "all_data2"
      ],
      "execution_count": null,
      "outputs": []
    },
    {
      "cell_type": "code",
      "metadata": {
        "id": "B5RjW8aqHVoM"
      },
      "source": [
        "#단어 빈도 체크\n",
        "title=all_data2['title'].tolist()\n",
        "info=all_data2['info'].tolist()\n",
        "\n",
        "total=[]\n",
        "#불필요한 단어들 제거\n",
        "stopwords = ['의', '가', '이', '은', '들', '는', '좀', '원', '권', '과', '도', '를', '으로', '자', '에', '와', '한', '하다', '우리','리다','냐','면요','요','위','아래','남','여주','남주','녀','주','내','년','그','님'\n",
        ",'너','나','난','언제','몸','거기','안','건','여기','이','제','그것','그게','을','날','입니다','부터','로','적','시작','다시','때','꼭','최고','물','겁','어째서','거','노','뭐','이런','곧','있던','최대한','가끔','또한',\n",
        "'그리고','주가','자식','마음','주가','그냥','인생','순간','기억','제발','정도','입술','사이','모두','이유','제대로','그래서','그런','그리고','앞','뒤','전','후','양','옆','그대','위해','무슨','언제','이제','데','감',\n",
        "'있는','아닌데','주의','있을까','네','저희','중','나름','말','하필','처리','같은','그러니','출처','왜','사람','사랑','그녀','당신','남자','주인공','저','감히','여자','자신','하나','생각','모든','다른','인간','새끼'\n",
        ",'이름','전하','가장','이상','원래','바로','모습','예정','갑자기','누구','머리','정말','소리','거리','초반','라면','분명','인물','이번','보고','처음','시간','오늘','거지','혼자','가지','절대','아주','관계','시선','자꾸'\n",
        "'이자','어디','눈빛','게다가','아무','대체','잠시','누가','건가','내용','리아','어깨','때문','눈물','장물','세계','방법','자리','세상','표정','진짜','얼굴','상황','이자','자꾸','사실','정신','문제','바람']\n",
        "for s1,s2 in zip(title,info):\n",
        "      x = okt.nouns(s1+' '+s2) # 토큰화(명사)\n",
        "      x= [word for word in x if word not in stopwords]  # 불필요한 명사들 제거\n",
        "      x= [word for word in x if len(word)>=2]  # #단어 길이가 2보다 작은 것 제거\n",
        "      total+=x"
      ],
      "execution_count": null,
      "outputs": []
    },
    {
      "cell_type": "code",
      "metadata": {
        "id": "P6U6MUW4wzdM"
      },
      "source": [
        "count= Counter(total)  # 빈도수 체크 \n",
        "noun_list = count.most_common(100)#빈도수 높은 순으로 100개 \n",
        "noun_list"
      ],
      "execution_count": null,
      "outputs": []
    },
    {
      "cell_type": "markdown",
      "metadata": {
        "id": "DDElBFV99V2L"
      },
      "source": [
        "#데이터 시각화 및 개인 분석"
      ]
    },
    {
      "cell_type": "code",
      "metadata": {
        "id": "I3jj4sNF9zuJ"
      },
      "source": [
        "c_t = dict(Counter(all_data['title'].tolist()).most_common(100))\n",
        "configure_plotly_browser_state()\n",
        "init_notebook_mode(connected=False)\n",
        "\n",
        "g=go.Bar(x=list(c_t.keys()),y=list(c_t.values()))\n",
        "data=[g]\n",
        "layout = go.Layout(title='2021_상반기_조아라_로판_투베 등장_빈도_100')\n",
        "fig = go.Figure(data=data, layout=layout)\n",
        "plotly.offline.plot(fig, filename='2021_상반기_조아라_로판_투베 등장_빈도_100.html')\n",
        "py.plot(fig, filename='2021_상반기_조아라_로판_투베 등장_빈도_100.html')\n",
        "iplot(fig)"
      ],
      "execution_count": null,
      "outputs": []
    },
    {
      "cell_type": "markdown",
      "metadata": {
        "id": "frPIzqrprxn5"
      },
      "source": [
        "1월부터 6월까지 상반기 동안 각 월마다 투데이베스트에 올라온 소설들 중 자주 등장한 소설들 중 100개를 뽑아 막대그래프로 나타내었다.<br>\n",
        " 더 쉽게 데이터를 설명해 보자, 예를 들어 보자면 '시한부 공작부인은 영생을 위해서라면' 은 여기서 등장 빈도수 6을 보이고 있다. <h4>이는 6월 내내 6번 등장했다는 의미가 아니라 1월부터 6월까지 각 월마다 1번 정도는 투데이베스트에 올랐다는 의미다. </h4>\n",
        " 때문에 이 데이터는 어떤 소설이 그 달에 가장 인기있었는지는 알 수 없지만, 그 대신에 2 가지를 생각해 볼 수 있다\n",
        "1.   소설에 지속적으로 관심을 주고 있는 독자들이 있는가?\n",
        "2.   꾸준히 신규 독자가 유입되고 있는가?<br>\n",
        "\n",
        "왜 이렇게 볼 수 있는지를 정리해보자.<br>\n",
        "조아라의 투데이베스트 등재는 베스트 지수에 따라 결정된다.그리고 베스트 지수는 용량/조회/추천/평점/선호작품등록에 따라 결정된다. 여기서 용량은 독자가 특정시간(30초 이상)동안 한 작품의 편수에 머물렀을 때로 결정된다.<br>\n",
        "그리고 이 용량을 제외한 베스트 지수들을 결정하는 다른 요소들은 이렇게도 볼 수 있다\n",
        "\n",
        "*   조회- 그날 당일에 누적된 조회수.(==얼마나 많은 사람이 읽었는가)\n",
        "*   추천-이 소설 회차 내용에 대한 긍정 표현(==당일 회차 내용에 대한 긍정)\n",
        "*   평점- 소설의 전체적 내용에 대한 평가\n",
        "*   선호작품등록-지속적으로 이 소설을 읽기로 한 이들의 수(=신규유입)<br>\n",
        "\n",
        "여기서 조회/추천/선호작 등록만 두고 위의 데이터를 살펴볼 때 데이터의 의미를 생각해볼 수 있다. (평점의 경우 한편당 기준이라기보다는 소설 전체 내용에 대한 평가에 가깝기 때문에 큰 영향을 주지 않는다고 생각한다) 그리고 이는 다시 이렇게  생각해볼 수 있다.<br>\n",
        "\n",
        "소설에 지속적으로 관심을 주고 있는 독자들이 있다(추천/조회)=고정 독자층이 존재한다<br>\n",
        "꾸준히 신규 독자가 유입되고 있다(선호작)<br>\n",
        "\n",
        "결과적으로 이 데이터를 통해 이미 고정 독자층이 있고 꾸준한 신규 독자가 유입되는 안정적인 인기를 가진 소설을 찾아낼 수 있다\n",
        "\n",
        "\n",
        "\n",
        "\n",
        "\n",
        "\n",
        "\n",
        "\n",
        "\n"
      ]
    },
    {
      "cell_type": "code",
      "metadata": {
        "id": "cAo87BRUfVM5"
      },
      "source": [
        "#명사 사용빈도 100 막대그래프\n",
        "n=dict(noun_list)\n",
        "configure_plotly_browser_state()\n",
        "init_notebook_mode(connected=False)\n",
        "\n",
        "g2=go.Bar(x=list(n.keys()),y=list(n.values()))\n",
        "data2=[g2]\n",
        "layout2 = go.Layout(title='2021_상반기_조아라_로판투베_사용_명사_빈도_100')\n",
        "fig2 = go.Figure(data=data2, layout=layout2)\n",
        "plotly.offline.plot(fig2, filename='2021_상반기_조아라_로판투베_사용_명사_빈도_100.html')\n",
        "py.plot(fig2, filename='2021_상반기_조아라_로판투베_사용_명사_빈도_100.html')\n",
        "iplot(fig2)\n",
        "\n",
        "#명사 사용빈도 100 워드클라우드\n",
        "wc = WordCloud(font_path='/content/drive/MyDrive/project/pytest/서울남산 장체B.ttf', \\\n",
        "                   background_color=\"white\", \\\n",
        "                   width=500, \\\n",
        "                   height=500, \\\n",
        "                   max_words=100, \\\n",
        "                   max_font_size=200)\n",
        "\n",
        "wc.generate_from_frequencies(dict(noun_list))\n",
        "wc.to_file('2021_상반기_조아라_로판투베_제목_소개글_사용_명사_빈도_100.png')\n",
        "plt.imshow(wc, interpolation='bilinear')\n",
        "plt.axis('off')\n",
        "plt.show()"
      ],
      "execution_count": null,
      "outputs": []
    },
    {
      "cell_type": "markdown",
      "metadata": {
        "id": "M-Y3wYulg5WO"
      },
      "source": [
        "***이 명단은 길이가 2 미만인 단어들을 모두 제거하고, 개인 기준으로 불필요한 단어(출간/계약/연재 관련 단어 및 기타 단어)를 모두 정리한 후 생성한 리스트입니다. 따라서 틀린 데이터일 가능성 또한 있으니 이 분석을 믿진 마세요....***<br><br>\n",
        "***불필요하다 생각하여 지운 단어 리스트= ['의', '가', '이', '은', '들', '는', '좀', '원', '권', '과', '도', '를', '으로', '자', '에', '와', '한', '하다', '우리','리다','냐','면요','요','위','아래','남','여주','남주','녀','주','내','년','그','님','너','나','난','언제','몸','거기','안','건','여기','이','제','그것','그게','을','날','입니다','부터','로','적','시작','다시','때','꼭','최고','물','겁','어째서','거','노','뭐','이런','곧','있던','최대한','가끔','또한','그리고','주가','자식','마음','주가','그냥','인생','순간','기억','제발','정도','입술','사이','모두','이유','제대로','그래서','그런','그리고','앞','뒤','전','후','양','옆','그대','위해','무슨','언제','이제','데','감','있는',아닌데','주의','있을까','네','저희','중','나름','말','하필','처리','같은','그러니''출처','왜','사람','사랑','그녀','당신','남자','주인공','저','감히','여자','자신','하나','생각','모든','다른','인간','새끼','이름','전하','가장','이상','원래','바로','모습','예정','갑자기','누구','머리','정말','소리','거리','초반','라면','분명','인물','이번','보고','처음','시간','오늘','거지','혼자','가지','절대','아주','관계','시선','자꾸''이자','어디','눈빛','게다가','아무','대체','잠시','누가','건가','내용','리아','어깨','때문','눈물','장물',]<br>\n",
        "계약/출간/연재 관련 단어= ['이메일', '계약작', '미계약작', '커미션', '메일', '작가', '불펌', '표지', '팬아트', '독자님', '수정', '등록', '픽사베이',\n",
        "    '문의', '상용가능', '이미지', '연재', '이전','작가','독자','업로드', '월','화','수','목','금','토','일','고정','부정기','정기',\n",
        "    '취향','트위터','sns','소통','그림','소개글','키워드','런칭','확정 ', '정식','쪽지','스푼','출간','님','자급자족','후보',\n",
        "     '노블레스','키워드','금','캡쳐','인스타그램','인스타','페북','페이스북','미계약']<br>***<br>\n",
        "2021 상반기 동안 투데이베스트에 올랐던 소설 528개에서 제목과 소개글에 사용된 명사들 중 그 빈도수가 높은 100개를 추출해 보았다.<br>이 데이터를 통해 우리는 사람들이 상반기동안 어떤 설정을 선호했는지, 어떤 세계관 과 캐릭터들을 좋아했는지를 대략적으로 알 수 있다. 더 잘 파악해 보기 위해 추출된 100개의 명사들을 장르/캐릭터 설정/관계/소재&분위기&기타 의 4가지로 분류해 보았다.<br><br>\n",
        "장르-('게임', 81), ('로맨스', 69),('로코', 64), ('마법사', 63),('로판', 53), ('판타지', 47), ('현판', 43),('마법', 39)\n",
        "\n",
        "소재/분위기/기타-('빙의', 517), ('회귀', 119), ('소설', 256), ('원작', 229),  ('착각', 95),('피폐', 83),('도망', 77),('쌍방', 72), ('오해', 70),('역하렘', 66),('사이다', 65),('19금', 60),('죽음', 66),('이야기', 57), ('비엘', 55), ('생활', 53), ('광공', 53), ('전쟁', 47), ('육아', 44),('엔딩', 43), ('힐링', 42),('회빙환', 42),('과거', 41), ('피폐물', 41),('노력', 41), ('납치', 40), ('전생', 39),('환생', 36), ('작품', 36)\n",
        "\n",
        "캐릭터 설정-('공작', 193), ('악녀', 186), ('능력', 181),('흑막', 142), ('대공', 128), ('황제', 125),('황태자', 105), ('다정', 100),('서브', 93), ('부인', 92), ('헌터', 85), ('엑스트라', 82), ('가이드', 82), ('악역', 77), ('무심', 74),('시한부', 69) ('영애', 66),('직진', 60), ('눈동자', 54), ('성녀', 54),('치료', 50), ('각성', 49), ('황자', 49), ('조연', 48), ('기사', 46),('북부', 47),('먼치킨', 45),('쓰레기', 42), ('상처', 38), ('악당', 38),\n",
        "\n",
        "관계-('집착', 467),('결혼', 282),('후회', 199),  ('남편', 177), ('이혼', 148),('가족', 112),  ('계략', 105), ('연애', 99), ('계약', 98), ('아이', 96),  ('동생', 94),('구원', 93), ('오빠', 77),('가문', 70),('제국', 73),('친구', 66),('짝사랑', 64),('언니', 55), ('아빠', 52), ('아버지', 49),('아들', 48),('소꿉친구', 43),('운명', 43), ('엄마', 42),('관심', 38),('아내', 38), ('첫사랑', 37), ('아기', 37), ('약혼자', 37), ('약속', 37),  ('주인', 68), ('평생', 36)\n",
        "\n",
        "\n"
      ]
    },
    {
      "cell_type": "markdown",
      "metadata": {
        "id": "NH2IvQxILI4y"
      },
      "source": [
        "2021 상반기 조아라 로판 데이터 종합 정리\n",
        "\n",
        "\n",
        "1)  전통적으로 인기있는 서양 판타지 장르가 여전히 인기를 누리고 있다. 하지만 게임,헌터 등의 명사들이 등장 빈도수가 높은 걸로 보아 현대판타지 장르소설이 많이 늘어난 것으로 보인다. 아마도 <전지적 독자 시점>, <내가 키운 S급들> 등의 남성향 판타지 소설들이 로판을 소비하는 주 소비자층인 여성들에게도 높은 인기를 누리면서 영향을 미친 것으로 보이는데,  일명 헌터물/성좌물로 분류되는 장르만이 활용되는 추세로 보이고 어반 판타지(퇴마물/오컬트물 등)는 활용되지 않는 것 같다.\n",
        "\n",
        "2) 빙의물이 압도적인 인기를 자랑하고 있다. 빈도수를 보았을 때 대부분 책 속 인물에게 빙의하는 내용이 주인 것으로 보인다. 흥미로운 점은 흔히 우리가 자주 말하는 회빙환(회귀/빙의/환생) 중 빙의만이 정말 압도적으로(빙의: 빈도수517/회귀:빈도수119/환생:빈도수36) 인기를 끌고 있다는 점이다. 이유는 잘 모르겠다.\n",
        "\n",
        "3)착각/오해/사이다/육아 등 우리가 대부분 알고 익숙한 소재들은 꾸준한 인기를 누리고 있다. 대부분 익숙한 소재/분위기들인 가운데 피폐물/피폐 라는 소재가 상당히 빈도수가 높다는 점이 흥미로운데, 이 또한 빙의 소재를 활용하는 과정에서 이뤄진 일이라 추측된다. 왠만한 소설/책에 다 빙의하다 보니 더 이상 쓸 소재가 없어지면서 피폐물 소설까지 닿게 되었다는 추측인데, 지금은 신선하지만 앞으로 어떻게 변화가 있을지 궁금하다. (아마 현대판타지 소설에 빙의하는 로판도 곧 나오지 않을까 싶다!)\n",
        "\n",
        "4)악녀의 변신은 여전한 대세인 것으로 추측된다(악녀: 빈도수 186). 이쯤 되면 악녀물로 분류를 따로 두어야 한다고 생각한다. 또한 주인공의 직업(남자든 여자든)으로는 공작이 황제나 대공, 황태자보다 더 선호되는 추세를 보이고 있다. 흥미로운 것은 시한부/ 흑막이라는 캐릭터 설정이 인기를 끌고 있다는 점이다. 흑막은 악역보다 더 강한 것을 추구해서 만들어진 설정이라 추측이라도 해볼 수 있지만 시한부는 왜 인기를 끄는지는 잘 모르겠다. 아마 시한부라는 상황을 주고, 주인공들이 평소였으면 하지 않을 일들을 행할 계기로 준다고 추측만 해볼 뿐이다.\n",
        "\n",
        "5. 집착/결혼/후회/남편/이혼 등이 빈도수가 높은 걸로 보아 '남편의 무심함에 지친 아내가 이혼을 결심하자 남편이 정신차리고 후회하면서 집착한다는' 클리셰가 꽤 인기가 있음을 추측해볼 수 있다. 더 나아가, 관계의 변화 혹은 사랑의 관계구도의 변화 같은 내용이 인기있음을 추측해볼 수 있다.\n",
        "\n"
      ]
    }
  ]
}